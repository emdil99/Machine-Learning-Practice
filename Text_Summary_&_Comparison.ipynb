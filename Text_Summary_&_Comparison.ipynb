{
  "nbformat": 4,
  "nbformat_minor": 0,
  "metadata": {
    "colab": {
      "provenance": [],
      "authorship_tag": "ABX9TyN2Tx/hLp1tUizJn5uBGHcu",
      "include_colab_link": true
    },
    "kernelspec": {
      "name": "python3",
      "display_name": "Python 3"
    },
    "language_info": {
      "name": "python"
    }
  },
  "cells": [
    {
      "cell_type": "markdown",
      "metadata": {
        "id": "view-in-github",
        "colab_type": "text"
      },
      "source": [
        "<a href=\"https://colab.research.google.com/github/emdil99/Machine-Learning-Practice/blob/main/Text_Summary_%26_Comparison.ipynb\" target=\"_parent\"><img src=\"https://colab.research.google.com/assets/colab-badge.svg\" alt=\"Open In Colab\"/></a>"
      ]
    },
    {
      "cell_type": "code",
      "execution_count": null,
      "metadata": {
        "colab": {
          "base_uri": "https://localhost:8080/"
        },
        "id": "hnO2WINa3--7",
        "outputId": "abd378a7-ecc3-4882-f0ad-42e628a20821"
      },
      "outputs": [
        {
          "output_type": "stream",
          "name": "stdout",
          "text": [
            "Requirement already satisfied: openai in /usr/local/lib/python3.10/dist-packages (1.35.14)\n",
            "Requirement already satisfied: anyio<5,>=3.5.0 in /usr/local/lib/python3.10/dist-packages (from openai) (3.7.1)\n",
            "Requirement already satisfied: distro<2,>=1.7.0 in /usr/lib/python3/dist-packages (from openai) (1.7.0)\n",
            "Requirement already satisfied: httpx<1,>=0.23.0 in /usr/local/lib/python3.10/dist-packages (from openai) (0.27.0)\n",
            "Requirement already satisfied: pydantic<3,>=1.9.0 in /usr/local/lib/python3.10/dist-packages (from openai) (2.8.2)\n",
            "Requirement already satisfied: sniffio in /usr/local/lib/python3.10/dist-packages (from openai) (1.3.1)\n",
            "Requirement already satisfied: tqdm>4 in /usr/local/lib/python3.10/dist-packages (from openai) (4.66.4)\n",
            "Requirement already satisfied: typing-extensions<5,>=4.7 in /usr/local/lib/python3.10/dist-packages (from openai) (4.12.2)\n",
            "Requirement already satisfied: idna>=2.8 in /usr/local/lib/python3.10/dist-packages (from anyio<5,>=3.5.0->openai) (3.7)\n",
            "Requirement already satisfied: exceptiongroup in /usr/local/lib/python3.10/dist-packages (from anyio<5,>=3.5.0->openai) (1.2.2)\n",
            "Requirement already satisfied: certifi in /usr/local/lib/python3.10/dist-packages (from httpx<1,>=0.23.0->openai) (2024.7.4)\n",
            "Requirement already satisfied: httpcore==1.* in /usr/local/lib/python3.10/dist-packages (from httpx<1,>=0.23.0->openai) (1.0.5)\n",
            "Requirement already satisfied: h11<0.15,>=0.13 in /usr/local/lib/python3.10/dist-packages (from httpcore==1.*->httpx<1,>=0.23.0->openai) (0.14.0)\n",
            "Requirement already satisfied: annotated-types>=0.4.0 in /usr/local/lib/python3.10/dist-packages (from pydantic<3,>=1.9.0->openai) (0.7.0)\n",
            "Requirement already satisfied: pydantic-core==2.20.1 in /usr/local/lib/python3.10/dist-packages (from pydantic<3,>=1.9.0->openai) (2.20.1)\n"
          ]
        }
      ],
      "source": [
        "!pip install openai\n"
      ]
    },
    {
      "cell_type": "code",
      "source": [
        "from openai import OpenAI\n",
        "from google.colab import userdata\n",
        "open_ai_key = userdata.get('OpenAI')\n",
        "\n"
      ],
      "metadata": {
        "id": "FQkTfl524c6o"
      },
      "execution_count": null,
      "outputs": []
    },
    {
      "cell_type": "markdown",
      "source": [
        "Text Summary\n",
        "\n",
        "*I chose a political news article with paragraphs that had content on both sides. Since it came from the same article I thought it would be interesting to see how AI would blend it together and be able to compare it with the original source. Then since it has information on both Democrat and Republican support it made the text viable for comparison as well*\n"
      ],
      "metadata": {
        "id": "RccAlhNMEoUM"
      }
    },
    {
      "cell_type": "code",
      "source": [
        "client = OpenAI(api_key=open_ai_key)\n",
        "\n",
        "\n",
        "#pulled two paragraphs from a recent WSJ Tech & politics news article :https://www.msn.com/en-us/money/companies/musk-turbocharges-silicon-valley-for-trump/ar-BB1q6xMB?ocid=msedgntphdr&cvid=a04231a4cc2d4eb0d2710d5dc9d0cdcb&ei=33\n",
        "\n",
        "\n",
        "text_1 = \"A number of tech executives and employees have leaned more to the political right in recent years, often in response to Biden administration policies. Some were motivated by issues personally important to them like support for Israel and opposition to diversity initiatives. But many have been upset about how the Biden administration has gone after big tech and regulated cryptocurrency. In the end, people vote their pocketbooks,” said Boris Feldman, a longtime lawyer to tech companies and a Republican. “For the tech executives, the notion that every acquisition they hope to do over the next few years is going to get attacked so that even if they win it’ll get tied up for years—it finally draws them in.Musk and other pro-Trump tech figures have attributed their stances in part to positions embraced by Democrats. \"\n",
        "text_2 = \"The tech-world shift is far from universal. Silicon Valley support for Biden has been strong in the current campaign, according to a Wall Street Journal analysis of Federal Election Commission data. Big donors include former Alphabet executive chairman Eric Schmidt and tech investors Laurene Powell Jobs, John Doerr and Ron Conway. LinkedIn co-founder and venture capitalist Reid Hoffman alone has donated more than $8 million to support Biden’s re-election effort. Some of Trump’s tech supporters backed Democrats in the past.\"\n",
        "\n",
        "\n",
        "response = client.chat.completions.create(\n",
        "\n",
        "    model =\"gpt-3.5-turbo\",\n",
        "\n",
        "    messages= [\n",
        "        {\"role\": \"system\", \"content\": \"Summarize the text into a headline and three bullet points\"},\n",
        "        {\"role\": \"user\", \"content\": text_1},\n",
        "        {\"role\": \"user\", \"content\": text_2}\n",
        "    ]\n",
        "\n",
        ")\n",
        "\n",
        "\n",
        "print(response.choices[0].message.content)\n"
      ],
      "metadata": {
        "colab": {
          "base_uri": "https://localhost:8080/"
        },
        "id": "L7mydehZ9H4x",
        "outputId": "5ce6ffad-4a73-42fe-a8d6-adf24ccb6ec2"
      },
      "execution_count": null,
      "outputs": [
        {
          "output_type": "stream",
          "name": "stdout",
          "text": [
            "Headline: Tech Executives Lean Right Over Political Issues, Biden Policies Face Criticism \n",
            "\n",
            "- Discontent among tech executives over Biden administration’s policies targeting big tech and the regulation of cryptocurrency\n",
            "- Political leaning influenced by personal issues like support for Israel and opposition to diversity initiatives\n",
            "- Concerns also arise over potential regulatory hurdles for tech acquisitions under the current administration's direction\n"
          ]
        }
      ]
    },
    {
      "cell_type": "markdown",
      "source": [
        "Text Comparison\n"
      ],
      "metadata": {
        "id": "VgSHr1RPEqyD"
      }
    },
    {
      "cell_type": "code",
      "source": [
        "text_1 = \"A number of tech executives and employees have leaned more to the political right in recent years, often in response to Biden administration policies. Some were motivated by issues personally important to them like support for Israel and opposition to diversity initiatives. But many have been upset about how the Biden administration has gone after big tech and regulated cryptocurrency. In the end, people vote their pocketbooks,” said Boris Feldman, a longtime lawyer to tech companies and a Republican. “For the tech executives, the notion that every acquisition they hope to do over the next few years is going to get attacked so that even if they win it’ll get tied up for years—it finally draws them in.Musk and other pro-Trump tech figures have attributed their stances in part to positions embraced by Democrats.\"\n",
        "text_2 = \"The tech-world shift is far from universal. Silicon Valley support for Biden has been strong in the current campaign, according to a Wall Street Journal analysis of Federal Election Commission data. Big donors include former Alphabet executive chairman Eric Schmidt and tech investors Laurene Powell Jobs, John Doerr and Ron Conway. LinkedIn co-founder and venture capitalist Reid Hoffman alone has donated more than $8 million to support Biden’s re-election effort. Some of Trump’s tech supporters backed Democrats in the past.\"\n",
        "\n",
        "\n",
        "response = client.chat.completions.create(\n",
        "\n",
        "    model =\"gpt-3.5-turbo\",\n",
        "\n",
        "    messages= [\n",
        "        {\"role\": \"system\", \"content\": \"Compare the two texts and summarize key differences in three bullet points\"},\n",
        "        {\"role\": \"user\", \"content\": text_1},\n",
        "        {\"role\": \"user\", \"content\": text_2}\n",
        "    ]\n",
        "\n",
        ")\n",
        "\n",
        "\n",
        "print(response.choices[0].message.content)"
      ],
      "metadata": {
        "colab": {
          "base_uri": "https://localhost:8080/"
        },
        "id": "lAUTILogC79p",
        "outputId": "021dab0f-74a9-4118-9622-19b8aff75cc4"
      },
      "execution_count": null,
      "outputs": [
        {
          "output_type": "stream",
          "name": "stdout",
          "text": [
            "- The first text highlights a trend of tech executives and employees leaning more toward the political right in recent years in response to Biden administration policies, particularly their actions towards big tech and regulation of cryptocurrency. On the other hand, the second text mentions strong Silicon Valley support for Biden's campaign, with significant donations from well-known tech figures like Eric Schmidt, Reid Hoffman, and others.\n",
            "\n",
            "- The first text emphasizes how some tech figures on the right were specifically motivated by issues such as support for Israel, opposition to diversity initiatives, and concerns regarding Biden's policies affecting tech industry acquisitions. In contrast, the second text doesn't delve into the specific issues that drove support for Biden in the tech community but rather mentions more general support from key tech donors.\n",
            "\n",
            "- The first text mentions tech executives and employees who have aligned with the political right, including Elon Musk and other pro-Trump figures. In contrast, the second text highlights a broader base of support within Silicon Valley for Biden's campaign, with mentions of various big donors and tech investors who have contributed significantly to his re-election effort.\n"
          ]
        }
      ]
    }
  ]
}