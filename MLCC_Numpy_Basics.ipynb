{
  "nbformat": 4,
  "nbformat_minor": 0,
  "metadata": {
    "colab": {
      "provenance": [],
      "authorship_tag": "ABX9TyOebnNX3GNfic3qy1RFQkNu",
      "include_colab_link": true
    },
    "kernelspec": {
      "name": "python3",
      "display_name": "Python 3"
    },
    "language_info": {
      "name": "python"
    }
  },
  "cells": [
    {
      "cell_type": "markdown",
      "metadata": {
        "id": "view-in-github",
        "colab_type": "text"
      },
      "source": [
        "<a href=\"https://colab.research.google.com/github/emdil99/Machine-Learning-Practice/blob/main/MLCC_Numpy_Basics.ipynb\" target=\"_parent\"><img src=\"https://colab.research.google.com/assets/colab-badge.svg\" alt=\"Open In Colab\"/></a>"
      ]
    },
    {
      "cell_type": "markdown",
      "source": [
        "Populating Arrays"
      ],
      "metadata": {
        "id": "k-f-BWETyVg-"
      }
    },
    {
      "cell_type": "code",
      "execution_count": 1,
      "metadata": {
        "id": "NrsE2pzlv_IG"
      },
      "outputs": [],
      "source": [
        "import numpy as np"
      ]
    },
    {
      "cell_type": "code",
      "source": [
        "one_dim_array = np.array([1.2,2.4,3.5,4.7,6.1,7.2,8.3,9.5])\n",
        "print(one_dim_array)"
      ],
      "metadata": {
        "colab": {
          "base_uri": "https://localhost:8080/"
        },
        "id": "Irh-e1WWwM6m",
        "outputId": "694d72c0-c48e-4417-ff56-a5f5b9dd6cbb"
      },
      "execution_count": 2,
      "outputs": [
        {
          "output_type": "stream",
          "name": "stdout",
          "text": [
            "[1.2 2.4 3.5 4.7 6.1 7.2 8.3 9.5]\n"
          ]
        }
      ]
    },
    {
      "cell_type": "code",
      "source": [
        "two_dim_array = np.array([[6,5],[11,7],[4,8]])\n",
        "print(two_dim_array)"
      ],
      "metadata": {
        "colab": {
          "base_uri": "https://localhost:8080/"
        },
        "id": "OBRcX8W6wiRz",
        "outputId": "fa4cd42a-ee41-4273-d852-1b39bf22d029"
      },
      "execution_count": 3,
      "outputs": [
        {
          "output_type": "stream",
          "name": "stdout",
          "text": [
            "[[ 6  5]\n",
            " [11  7]\n",
            " [ 4  8]]\n"
          ]
        }
      ]
    },
    {
      "cell_type": "code",
      "source": [
        "sequence_of_ints = np.arange(5, 12)\n",
        "print(sequence_of_ints)"
      ],
      "metadata": {
        "colab": {
          "base_uri": "https://localhost:8080/"
        },
        "id": "F150fMhgw2Fe",
        "outputId": "124cbaf8-8a06-4834-f55b-293632385bf0"
      },
      "execution_count": 6,
      "outputs": [
        {
          "output_type": "stream",
          "name": "stdout",
          "text": [
            "[ 5  6  7  8  9 10 11]\n"
          ]
        }
      ]
    },
    {
      "cell_type": "code",
      "source": [
        "test = np.ones((3,5))\n",
        "print(test)"
      ],
      "metadata": {
        "colab": {
          "base_uri": "https://localhost:8080/"
        },
        "id": "iHabLZfUxJu5",
        "outputId": "9797accf-b2a0-4e33-e9ba-151a420cdeec"
      },
      "execution_count": 7,
      "outputs": [
        {
          "output_type": "stream",
          "name": "stdout",
          "text": [
            "[[1. 1. 1. 1. 1.]\n",
            " [1. 1. 1. 1. 1.]\n",
            " [1. 1. 1. 1. 1.]]\n"
          ]
        }
      ]
    },
    {
      "cell_type": "code",
      "source": [
        "random_ints = np.random.randint(low=50, high=101, size=(6,))\n",
        "print(random_ints)"
      ],
      "metadata": {
        "colab": {
          "base_uri": "https://localhost:8080/"
        },
        "id": "bsO0VfIOxXlk",
        "outputId": "a582121c-df1c-4c40-f7a6-3c2340bd5eb2"
      },
      "execution_count": 16,
      "outputs": [
        {
          "output_type": "stream",
          "name": "stdout",
          "text": [
            "[72 96 56 92 70 60]\n"
          ]
        }
      ]
    },
    {
      "cell_type": "code",
      "source": [
        "random_floats = np.random.random((6,))\n",
        "print(random_floats)"
      ],
      "metadata": {
        "colab": {
          "base_uri": "https://localhost:8080/"
        },
        "id": "y9ZMH-u_xtSn",
        "outputId": "b24cb3b1-6d75-4151-8b3b-c4b03f64b742"
      },
      "execution_count": 12,
      "outputs": [
        {
          "output_type": "stream",
          "name": "stdout",
          "text": [
            "[0.99423996 0.99174029 0.86369708 0.29309149 0.79839163 0.03574955]\n"
          ]
        }
      ]
    },
    {
      "cell_type": "markdown",
      "source": [
        "Mathmatical Operations\n",
        "\n"
      ],
      "metadata": {
        "id": "9J96T1DlyPL5"
      }
    },
    {
      "cell_type": "code",
      "source": [
        "random_floats_between_2_and_3 = random_floats + 2.0\n",
        "print(random_floats_between_2_and_3)"
      ],
      "metadata": {
        "colab": {
          "base_uri": "https://localhost:8080/"
        },
        "id": "ZAxsszpXyR7X",
        "outputId": "188d5d27-6deb-4f74-8a68-2e7c198af7dd"
      },
      "execution_count": 14,
      "outputs": [
        {
          "output_type": "stream",
          "name": "stdout",
          "text": [
            "[2.99423996 2.99174029 2.86369708 2.29309149 2.79839163 2.03574955]\n"
          ]
        }
      ]
    },
    {
      "cell_type": "code",
      "source": [
        "random_integers_between_150_and_300 = random_ints * 3\n",
        "print(random_integers_between_150_and_300)"
      ],
      "metadata": {
        "colab": {
          "base_uri": "https://localhost:8080/"
        },
        "id": "rdOtIHJOy20X",
        "outputId": "6877febe-7903-4883-85bd-c0d77b41b41c"
      },
      "execution_count": 17,
      "outputs": [
        {
          "output_type": "stream",
          "name": "stdout",
          "text": [
            "[216 288 168 276 210 180]\n"
          ]
        }
      ]
    },
    {
      "cell_type": "markdown",
      "source": [
        "**Independent Tasks **"
      ],
      "metadata": {
        "id": "HfmcrFB_zFHA"
      }
    },
    {
      "cell_type": "code",
      "source": [
        "feature = np.arange(6,21)\n",
        "print(feature)"
      ],
      "metadata": {
        "colab": {
          "base_uri": "https://localhost:8080/"
        },
        "id": "6YMH04dMzKvo",
        "outputId": "4b85e392-af34-48d0-c7d0-ec8e49b828a8"
      },
      "execution_count": 20,
      "outputs": [
        {
          "output_type": "stream",
          "name": "stdout",
          "text": [
            "[ 6  7  8  9 10 11 12 13 14 15 16 17 18 19 20]\n"
          ]
        }
      ]
    },
    {
      "cell_type": "code",
      "source": [
        "label = (feature *3) +4\n",
        "print(label)"
      ],
      "metadata": {
        "colab": {
          "base_uri": "https://localhost:8080/"
        },
        "id": "ZR6ZXDIfz7fS",
        "outputId": "487347e5-cccd-49f0-f5e7-2ac757f31752"
      },
      "execution_count": 22,
      "outputs": [
        {
          "output_type": "stream",
          "name": "stdout",
          "text": [
            "[22 25 28 31 34 37 40 43 46 49 52 55 58 61 64]\n"
          ]
        }
      ]
    },
    {
      "cell_type": "code",
      "source": [
        "#add noise by adding a different random floating point between -2 and 2\n",
        "noise=np.random.random([15])*4-2\n",
        "print(noise)"
      ],
      "metadata": {
        "colab": {
          "base_uri": "https://localhost:8080/"
        },
        "id": "z2q6oaFC0NEV",
        "outputId": "0d33509e-ecda-4938-cf8a-3a0a4b148c23"
      },
      "execution_count": 32,
      "outputs": [
        {
          "output_type": "stream",
          "name": "stdout",
          "text": [
            "[-0.42515703 -1.46636031 -0.45825021 -1.04166324 -1.84555286 -0.68028636\n",
            " -1.86899241 -0.69459214  0.37478547 -0.57638171  0.30923235  0.16371014\n",
            "  0.53111572 -1.66420025 -1.84891071]\n"
          ]
        }
      ]
    },
    {
      "cell_type": "code",
      "source": [
        "label = label + noise\n",
        "print(label)"
      ],
      "metadata": {
        "colab": {
          "base_uri": "https://localhost:8080/"
        },
        "id": "HDCTbOV_0hT5",
        "outputId": "1b08b206-5806-49a9-8751-62d2aa16e9a5"
      },
      "execution_count": 33,
      "outputs": [
        {
          "output_type": "stream",
          "name": "stdout",
          "text": [
            "[21.68532953 24.44404087 28.05613411 30.3153475  32.46082312 36.5656317\n",
            " 38.74849736 43.10854589 46.48658842 48.58016759 53.00141622 55.94588997\n",
            " 59.36165345 59.73552135 62.326238  ]\n"
          ]
        }
      ]
    }
  ]
}